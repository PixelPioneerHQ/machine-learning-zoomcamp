{
 "cells": [
  {
   "cell_type": "markdown",
   "id": "1dafb4a1",
   "metadata": {},
   "source": [
    "# Module 5 ? Deployment Homework (2025)\n",
    "\n",
    "This notebook guides you through every question with explicit commands and code you can run locally. It also explains why each answer is obtained.\n",
    "\n",
    "We use the lead?scoring model provided by the course.\n"
   ]
  },
  {
   "cell_type": "markdown",
   "id": "27fc3d92",
   "metadata": {},
   "source": [
    "## 0. Prereqs\n",
    "- Python 3.12+ (3.13 recommended)\n",
    "- uv (new Python package/deps tool)\n",
    "- Docker Desktop (for Q5?Q6)\n",
    "- Jupyter for this notebook\n",
    "\n",
    "We?ll initialize a fresh uv project in a separate folder and keep this notebook in the course repo.\n"
   ]
  },
  {
   "cell_type": "markdown",
   "id": "0cf1972a",
   "metadata": {},
   "source": [
    "## Q1. Install uv and check version\n",
    "\n",
    "On your terminal (PowerShell/WSL/Terminal), run one of:\n",
    "- Windows: `winget install --id astral-sh.uv` or `pip install uv`\n",
    "- macOS/Linux: `curl -LsSf https://astral.sh/uv/install.sh | sh`\n",
    "\n",
    "Then verify the version:\n",
    "```bash\n",
    "uv --version\n",
    "```\n",
    "Record the printed version for submission.\n"
   ]
  },
  {
   "cell_type": "markdown",
   "id": "2d1744a1",
   "metadata": {},
   "source": [
    "## Initialize a clean uv project (outside this repo)\n",
    "\n",
    "From your workspace root (or any folder), do:\n",
    "```bash\n",
    "mkdir hw05-uv && cd hw05-uv\n",
    "uv init\n",
    "```\n",
    "This creates `pyproject.toml` and a virtual environment managed by uv.\n"
   ]
  },
  {
   "cell_type": "markdown",
   "id": "9cdb23c6",
   "metadata": {},
   "source": [
    "## Q2. Add scikit?learn==1.6.1 and get lock hash\n",
    "\n",
    "Install exact version and create a lock file:\n",
    "```bash\n",
    "uv add scikit-learn==1.6.1\n",
    "```\n",
    "Now open `uv.lock` and find the first hash for `scikit-learn` (the string starting with `sha256:`). Submit that full hash.\n",
    "\n",
    "Tip (optional, run here if this notebook is in the uv project):\n",
    "```python\n",
    "# Parse uv.lock and print the first hash for scikit-learn\n",
    "```\n"
   ]
  },
  {
   "cell_type": "markdown",
   "id": "c7aa6d2a",
   "metadata": {},
   "source": [
    "## Models for scoring\n",
    "- `pipeline_v1.bin` (for local scoring and FastAPI locally)\n",
    "- `pipeline_v2.bin` is already baked into the base Docker image and will be used inside the container.\n",
    "\n",
    "Download v1 locally in the same folder as your FastAPI script or this notebook:\n",
    "```bash\n",
    "wget https://github.com/DataTalksClub/machine-learning-zoomcamp/raw/refs/heads/master/cohorts/2025/05-deployment/pipeline_v1.bin\n",
    "```\n",
    "Verify checksum (optional):\n",
    "```bash\n",
    "md5sum pipeline_v1.bin  # should be 7d17d2e4dfbaf1e408e1a62e6e880d49\n",
    "```\n"
   ]
  },
  {
   "cell_type": "markdown",
   "id": "ca80367c",
   "metadata": {},
   "source": [
    "## Q3. Load pipeline_v1 and score a record\n",
    "Explanation: the model is a scikit?learn pipeline: `DictVectorizer` ? `LogisticRegression`. We must convert the input JSON to a Python dict and call `predict_proba` to get a probability of conversion (class 1).\n"
   ]
  },
  {
   "cell_type": "code",
   "execution_count": 1,
   "id": "6ee135ca",
   "metadata": {},
   "outputs": [
    {
     "name": "stderr",
     "output_type": "stream",
     "text": [
      "D:\\tien.nv12\\learn\\machine-learning-zoomcamp\\.venv\\Lib\\site-packages\\sklearn\\base.py:442: InconsistentVersionWarning: Trying to unpickle estimator DictVectorizer from version 1.6.1 when using version 1.7.2. This might lead to breaking code or invalid results. Use at your own risk. For more info please refer to:\n",
      "https://scikit-learn.org/stable/model_persistence.html#security-maintainability-limitations\n",
      "  warnings.warn(\n",
      "D:\\tien.nv12\\learn\\machine-learning-zoomcamp\\.venv\\Lib\\site-packages\\sklearn\\base.py:442: InconsistentVersionWarning: Trying to unpickle estimator LogisticRegression from version 1.6.1 when using version 1.7.2. This might lead to breaking code or invalid results. Use at your own risk. For more info please refer to:\n",
      "https://scikit-learn.org/stable/model_persistence.html#security-maintainability-limitations\n",
      "  warnings.warn(\n",
      "D:\\tien.nv12\\learn\\machine-learning-zoomcamp\\.venv\\Lib\\site-packages\\sklearn\\base.py:442: InconsistentVersionWarning: Trying to unpickle estimator Pipeline from version 1.6.1 when using version 1.7.2. This might lead to breaking code or invalid results. Use at your own risk. For more info please refer to:\n",
      "https://scikit-learn.org/stable/model_persistence.html#security-maintainability-limitations\n",
      "  warnings.warn(\n"
     ]
    },
    {
     "data": {
      "text/plain": [
       "0.5336072702798061"
      ]
     },
     "execution_count": 1,
     "metadata": {},
     "output_type": "execute_result"
    }
   ],
   "source": [
    "import pickle, json\n",
    "from pathlib import Path\n",
    "\n",
    "MODEL_FILE = Path('cohorts/2025/05-deployment/pipeline_v1.bin') if Path('cohorts/2025/05-deployment/pipeline_v1.bin').exists() else Path('pipeline_v1.bin')\n",
    "\n",
    "with open(MODEL_FILE, 'rb') as f:\n",
    "    pipeline_v1 = pickle.load(f)\n",
    "\n",
    "client = {\n",
    "    \"lead_source\": \"paid_ads\",\n",
    "    \"number_of_courses_viewed\": 2,\n",
    "    \"annual_income\": 79276.0\n",
    "}\n",
    "\n",
    "proba = float(pipeline_v1.predict_proba([client])[:, 1][0])\n",
    "proba\n"
   ]
  },
  {
   "cell_type": "markdown",
   "id": "30fc4384",
   "metadata": {},
   "source": [
    "Interpretation: Submit the closest option to the printed probability. The pipeline handles missing values because it was trained with appropriate preprocessing in the notebook referenced by the course.\n"
   ]
  },
  {
   "cell_type": "markdown",
   "id": "9a78b45a",
   "metadata": {},
   "source": [
    "## Q4. Serve with FastAPI locally\n",
    "We?ll expose a `/predict` endpoint that accepts the same JSON, loads `pipeline_v1.bin`, and returns the probability.\n",
    "\n",
    "Steps in the uv project directory:\n",
    "```bash\n",
    "uv add fastapi uvicorn[standard]\n",
    "```\n",
    "Create `service.py` with:\n",
    "```python\n",
    "from fastapi import FastAPI\n",
    "import pickle\n",
    "from pydantic import BaseModel\n",
    "from pathlib import Path\n",
    "\n",
    "class Lead(BaseModel):\n",
    "    lead_source: str\n",
    "    number_of_courses_viewed: int\n",
    "    annual_income: float\n",
    "\n",
    "app = FastAPI()\n",
    "\n",
    "# Load v1 locally by default\n",
    "MODEL_PATHS = [Path('pipeline_v1.bin'), Path('cohorts/2025/05-deployment/pipeline_v1.bin')]\n",
    "for p in MODEL_PATHS:\n",
    "    if p.exists():\n",
    "        model_path = p\n",
    "        break\n",
    "else:\n",
    "    model_path = Path('pipeline_v2.bin')  # fallback, for Docker base image\n",
    "\n",
    "with open(model_path, 'rb') as f:\n",
    "    model = pickle.load(f)\n",
    "\n",
    "@app.post('/predict')\n",
    "async def predict(payload: Lead):\n",
    "    proba = float(model.predict_proba([payload.model_dump()])[:, 1][0])\n",
    "    return {'converted_probability': proba}\n",
    "```\n",
    "Run locally:\n",
    "```bash\n",
    "uvicorn service:app --host 0.0.0.0 --port 8000\n",
    "```\n",
    "Test from Python:\n",
    "```python\n",
    "import requests\n",
    "url = 'http://127.0.0.1:8000/predict'\n",
    "client = {\"lead_source\":\"organic_search\",\"number_of_courses_viewed\":4,\"annual_income\":80304.0}\n",
    "requests.post(url, json=client).json()\n",
    "```\n",
    "Record the closest option to the returned probability.\n"
   ]
  },
  {
   "cell_type": "markdown",
   "id": "43ec8f7e",
   "metadata": {},
   "source": [
    "## Q5. Pull base Docker image and check size\n",
    "Run:\n",
    "```bash\n",
    "docker pull agrigorev/zoomcamp-model:2025\n",
    "docker images | findstr zoomcamp-model  # Windows\n",
    "# or: docker images | grep zoomcamp-model\n",
    "```\n",
    "Submit the size shown in the SIZE column for `agrigorev/zoomcamp-model:2025`.\n"
   ]
  },
  {
   "cell_type": "markdown",
   "id": "e9599829",
   "metadata": {},
   "source": [
    "## Dockerfile for Q6\n",
    "We?ll base on `agrigorev/zoomcamp-model:2025` which already has `pipeline_v2.bin` in `/code`.\n",
    "\n",
    "`Dockerfile`:\n",
    "```dockerfile\n",
    "FROM agrigorev/zoomcamp-model:2025\n",
    "WORKDIR /code\n",
    "\n",
    "# Bring in project metadata for dependency install\n",
    "COPY pyproject.toml uv.lock ./\n",
    "\n",
    "# Install dependencies with uv (pip fallback if preferred)\n",
    "RUN python -m pip install --no-cache-dir uv  && uv sync --frozen --no-cache\n",
    "\n",
    "# Copy FastAPI service (expects pipeline_v2.bin present already)\n",
    "COPY service.py ./\n",
    "\n",
    "EXPOSE 8000\n",
    "CMD [\"uvicorn\", \"service:app\", \"--host\", \"0.0.0.0\", \"--port\", \"8000\"]\n",
    "```\n",
    "Build and run:\n",
    "```bash\n",
    "docker build -t hw05-service .\n",
    "docker run -it --rm -p 8000:8000 hw05-service\n",
    "```\n",
    "Test the same client as in Q4 to get the probability from the containerized service and choose the closest option for Q6.\n"
   ]
  },
  {
   "cell_type": "markdown",
   "id": "2bd769d0",
   "metadata": {},
   "source": [
    "## Why these answers make sense\n",
    "- The pipeline is a linear model over one?hot encoded `lead_source` and two numeric features. Probabilities are logistic?sigmoid of the linear score.\n",
    "- uv lock hash uniquely identifies the wheel/distribution; you read the first hash for scikit?learn 1.6.1 in `uv.lock`.\n",
    "- Using the base image avoids compiling scikit?learn inside the container and keeps the image small; we only add Python deps and the service script, so size barely grows.\n",
    "- Predictions inside Docker use `pipeline_v2.bin` pre?baked in the image, so results can differ slightly from Q3, which uses `pipeline_v1.bin`.\n"
   ]
  }
 ],
 "metadata": {
  "kernelspec": {
   "display_name": "Python 3 (ipykernel)",
   "language": "python",
   "name": "python3"
  },
  "language_info": {
   "codemirror_mode": {
    "name": "ipython",
    "version": 3
   },
   "file_extension": ".py",
   "mimetype": "text/x-python",
   "name": "python",
   "nbconvert_exporter": "python",
   "pygments_lexer": "ipython3",
   "version": "3.13.3"
  }
 },
 "nbformat": 4,
 "nbformat_minor": 5
}
